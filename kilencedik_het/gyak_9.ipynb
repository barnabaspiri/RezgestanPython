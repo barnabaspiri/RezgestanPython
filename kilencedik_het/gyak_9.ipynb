{
 "cells": [
  {
   "cell_type": "markdown",
   "metadata": {},
   "source": [
    "# 9. Gyakorlat - Rezgésgerjesztő\n",
    "2021.04.04.\n",
    "\n",
    "## Feladat:"
   ]
  },
  {
   "cell_type": "markdown",
   "metadata": {},
   "source": [
    "<center><img src=\"gyak9_1.png\" width=800/></center>"
   ]
  },
  {
   "cell_type": "markdown",
   "metadata": {},
   "source": [
    "A mellékelt ábrán egy gerjesztő látható, ami egy $m$ tömegű merev testből, és 4 $\\omega$ szögsebességgel szimmetrikusan forgó $r$ excentricitású $m_0$ tömegből áll. Az egyszerűsített mechanikai modellben a mozgó merev test egy $k$ merevségű rugó és egy $c$ csillapítási tényezőjű csillapító elmmel van az alaphoz rögzítve. A mozgás leírásáshoz az $y(t)$ általános koordinátát használjuk, melyet a statikus egyensúlyi ponttól mérünk. Az egyensúlyi pontban ($y=0$) a rugó előterhelt állapotban van, ami a gravitációs erővel ellentétes irányú erőt eredményez.\n",
    "\n",
    "### Adatok:\n",
    "|||\n",
    "|-------------------------------------|-------------------------------------|\n",
    "| $m$ = 60 kg                         | $\\omega$ = 75 rad/s                 |\n",
    "| $m_0$ = 0.5 kg                      | $k$ = 25000 N/m                     |\n",
    "| $r$ = 0,1 m                         |\n",
    "\n",
    "### Részfeladatok:\n",
    "\n",
    "1. Határozza meg a $c$ csillapítási tényezőt, ha a relatív csillapítási tényező $\\zeta = 0.05$!\n",
    "2. Határozza meg az állandósult állapotban ($y_p(t)$)  a rezgés amplitúdóját ($Y$)!\n",
    "3. Mekkora az alapra ható erő ($F_{a,max}$) legnagyobb értéke az állandósult állapotban?\n",
    "\n",
    "## Megoldás:"
   ]
  },
  {
   "cell_type": "markdown",
   "metadata": {},
   "source": [
    "## 1. Feladat:\n",
    "A mozgásegyenletet a Lagrange-egyenlet segítségével határozzuk meg. Mivel a rendszerre nem hat semmilyen külső erő, ezért az álatlános erő $Q^\\star=0$. A Lagrange-egyenlet tehát az $y$ általános koordináta segítségével az alábbi alakban írható:\n",
    "\n",
    "$$\\frac{\\mathrm d}{\\mathrm dt}\\frac{\\partial T}{\\partial \\dot y}-\\frac{\\partial T}{\\partial y} + \\frac{\\partial \\mathcal D}{\\partial \\dot y} + \\frac{\\partial U}{\\partial y} = 0,$$\n",
    "\n",
    "ahol $T$ a kinetikus energia, $\\mathcal D$ a Rayleigh-féle disszipatív potenciál, $U$ a potenciálfüggvény."
   ]
  },
  {
   "cell_type": "code",
   "execution_count": 1,
   "metadata": {},
   "outputs": [],
   "source": [
    "import sympy as sp\n",
    "from IPython.display import display, Math\n",
    "\n",
    "sp.init_printing()"
   ]
  },
  {
   "cell_type": "code",
   "execution_count": 2,
   "metadata": {},
   "outputs": [],
   "source": [
    "## Függvények, szimbólumok definiálása\n",
    "\n",
    "m, m0, r, ω, k, ζ, c, g = sp.symbols(\"m, m0, r, ω, k, ζ, c, g\", real=True)\n",
    "\n",
    "# Készítsünk behelyettesítési listát az adatok alapján, SI-ben\n",
    "adatok = [(m, 60), (m0, 0.5), (r, 0.1), (ω, 75), (k, 25000), (ζ, 0.05), (g, 9.81)]\n",
    "\n",
    "# általános koordináta\n",
    "t = sp.symbols(\"t\", real=True, positive=True)\n",
    "y = sp.Function('y')(t)"
   ]
  },
  {
   "cell_type": "code",
   "execution_count": 3,
   "metadata": {},
   "outputs": [
    {
     "data": {
      "text/latex": [
       "$\\displaystyle T = \\frac{m \\left(\\frac{d}{d t} y{\\left(t \\right)}\\right)^{2}}{2} + 2 m_{0} \\left(r^{2} ω^{2} + 2 r ω \\cos{\\left(t ω \\right)} \\frac{d}{d t} y{\\left(t \\right)} + \\left(\\frac{d}{d t} y{\\left(t \\right)}\\right)^{2}\\right)$"
      ],
      "text/plain": [
       "<IPython.core.display.Math object>"
      ]
     },
     "metadata": {},
     "output_type": "display_data"
    }
   ],
   "source": [
    "## A kinetikus energia\n",
    "\n",
    "\"\"\"(Így is lehet több soros kommentet írni!)\n",
    "A kinetikus energia felírásakor a merev test függőleges mozgását\n",
    "és a négy tömegpont excentrikus forgását kell figyelembe venni.\n",
    "Mivel a Lagrange-egyenletben az általános koordináta szerinti derivált szerepel,\n",
    "ezért az excentrikus forgásból adódó v0 sebességet is az \n",
    "y általános koordináta segítségével kell kifejezni.\"\"\"\n",
    "\n",
    "# Ehhez előszőr írjuk fel a tömegpont helyzetét leíró r0 vektort\n",
    "C1, C2 = sp.symbols(\"C1, C2\") # konstansok\n",
    "r0 = sp.Matrix([[r*sp.cos(ω*t) + C1],[y + r*sp.sin(ω*t) + C2]])\n",
    "\n",
    "# Ebből deriválás segítségével kapható a sebességvektor\n",
    "v0 = r0.diff(t)\n",
    "\n",
    "T = (sp.Rational(1,2) * m * y.diff(t)**2 + 4*sp.Rational(1,2)*m0 * v0.dot(v0)).trigsimp()\n",
    "\n",
    "display(Math('T = {}'.format(sp.latex(T))))"
   ]
  },
  {
   "cell_type": "code",
   "execution_count": 4,
   "metadata": {},
   "outputs": [
    {
     "data": {
      "text/latex": [
       "$\\displaystyle \\mathcal{D} = \\frac{c \\frac{d^{2}}{d t^{2}} y{\\left(t \\right)}}{2}$"
      ],
      "text/plain": [
       "<IPython.core.display.Math object>"
      ]
     },
     "metadata": {},
     "output_type": "display_data"
    }
   ],
   "source": [
    "## A Rayleigh féle disszipatív potenciál\n",
    "\n",
    "# A csillapító elemre az alábbi disszipatív potenciál írható fel\n",
    "D = sp.Rational(1,2)*c*y.diff(t,2)\n",
    "\n",
    "display(Math('\\mathcal{{D}} = {}'.format(sp.latex(D))))"
   ]
  },
  {
   "cell_type": "markdown",
   "metadata": {},
   "source": [
    "<center><img src=\"gyak9_2.png\" width=600/></center>"
   ]
  },
  {
   "cell_type": "code",
   "execution_count": 5,
   "metadata": {},
   "outputs": [
    {
     "data": {
      "text/latex": [
       "$\\displaystyle U = C_{0} + g m \\left(- z_{st} + y{\\left(t \\right)}\\right) + 4 g m_{0} \\left(r \\sin{\\left(t ω \\right)} - z_{st} + y{\\left(t \\right)}\\right) + \\frac{k \\left(- z_{st} + y{\\left(t \\right)}\\right)^{2}}{2}$"
      ],
      "text/plain": [
       "<IPython.core.display.Math object>"
      ]
     },
     "metadata": {},
     "output_type": "display_data"
    }
   ],
   "source": [
    "## A potenciális energia\n",
    "\n",
    "\"\"\"A potenciális energia a rugókban felhalmozódó potenciális energia\n",
    "és a gravitációs erő potenciális energiájából tevődik össze.\n",
    "Mivel a rugó előterhelt állapotban van az egyensúlyi pozícióban, ezért\n",
    "célszerű a potenciális energiának bevezetni egy új koordináta rendszert,\n",
    "aminek a függőleges nullpontja ott van, ahol a rugó hossza megegyegyzik\n",
    "a terheletlen hosszával (lásd fenti ábra). Ezzel a transzformációval \n",
    "az új koordináta-rendszerben a nullszinttől való eltérést a z koordináta méri.\"\"\"\n",
    "\n",
    "z_st, C0 = sp.symbols(\"z_st, C0\")\n",
    "z = y - z_st\n",
    "\n",
    "# Az új koordinátával a potenciális energia az alábbi alakban írható\n",
    "# (C0 tetszőleges konstans, a deriválás után ki fog esni.)\n",
    "U = sp.Rational(1,2)*k*z**2 + m*g*z + 4*m0*g*(z + r*sp.sin(ω*t)) + C0 \n",
    "\n",
    "display(Math('U = {}'.format(sp.latex(U))))"
   ]
  },
  {
   "cell_type": "code",
   "execution_count": 6,
   "metadata": {},
   "outputs": [
    {
     "data": {
      "image/png": "[encoded data removed]",
      "text/latex": [
       "$\\displaystyle g m + 4 g m_{0} - k z_{st} + k y{\\left(t \\right)} - 4 m_{0} r ω^{2} \\sin{\\left(t ω \\right)} + \\left(m + 4 m_{0}\\right) \\frac{d^{2}}{d t^{2}} y{\\left(t \\right)}$"
      ],
      "text/plain": [
       "                                                                  2      \n",
       "                                        2                        d       \n",
       "g⋅m + 4⋅g⋅m₀ - k⋅zₛₜ + k⋅y(t) - 4⋅m₀⋅r⋅ω ⋅sin(t⋅ω) + (m + 4⋅m₀)⋅───(y(t))\n",
       "                                                                  2      \n",
       "                                                                dt       "
      ]
     },
     "metadata": {},
     "output_type": "display_data"
    }
   ],
   "source": [
    "## A mozgásegyenlet\n",
    "\n",
    "mozgegy_0 = ((T.diff(y.diff(t))).diff(t) - T.diff(y) + D.diff(y.diff(t)) + U.diff(y)).expand().collect(y)\n",
    "\n",
    "display(mozgegy_0)"
   ]
  },
  {
   "cell_type": "code",
   "execution_count": 7,
   "metadata": {},
   "outputs": [
    {
     "data": {
      "image/png": "[encoded data removed]",
      "text/latex": [
       "$\\displaystyle \\frac{k y{\\left(t \\right)} - 4 m_{0} r ω^{2} \\sin{\\left(t ω \\right)} + \\left(m + 4 m_{0}\\right) \\frac{d^{2}}{d t^{2}} y{\\left(t \\right)}}{m + 4 m_{0}}$"
      ],
      "text/plain": [
       "                                           2      \n",
       "                 2                        d       \n",
       "k⋅y(t) - 4⋅m₀⋅r⋅ω ⋅sin(t⋅ω) + (m + 4⋅m₀)⋅───(y(t))\n",
       "                                           2      \n",
       "                                         dt       \n",
       "──────────────────────────────────────────────────\n",
       "                     m + 4⋅m₀                     "
      ]
     },
     "metadata": {},
     "output_type": "display_data"
    }
   ],
   "source": [
    "\"\"\"A mozgásegyenletben az időfüggetlen tag az egyensúlyi egyenletet adja vissza.\n",
    "Mivel az egyensúlyban a rugóerő és a gravitációs\n",
    "erő kiegyenlítik egymást, ezért ez a tag nullával egyenlő,\n",
    "tehát elhagyható a mozgásegyeneletből.\"\"\"\n",
    "\n",
    "mozgegy_1 = mozgegy_0.subs(g*m + 4*g*m0 - k*z_st, 0)\n",
    "\n",
    "# Osszunk le a főegyütthatóval, hogy a megszokott alkra jussunk\n",
    "foegy = mozgegy_1.coeff(y.diff(t,2))\n",
    "mozgegy = (mozgegy_1 / foegy)\n",
    "\n",
    "display(mozgegy)"
   ]
  },
  {
   "cell_type": "code",
   "execution_count": 8,
   "metadata": {},
   "outputs": [
    {
     "data": {
      "text/latex": [
       "$\\displaystyle ω_n= 20.08\\ \\text{rad/s}$"
      ],
      "text/plain": [
       "<IPython.core.display.Math object>"
      ]
     },
     "metadata": {},
     "output_type": "display_data"
    },
    {
     "data": {
      "text/latex": [
       "$\\displaystyle c = 124.5\\ \\text{Ns/m}$"
      ],
      "text/plain": [
       "<IPython.core.display.Math object>"
      ]
     },
     "metadata": {},
     "output_type": "display_data"
    },
    {
     "data": {
      "text/latex": [
       "$\\displaystyle f_0 = 0.045\\ \\text{m}$"
      ],
      "text/plain": [
       "<IPython.core.display.Math object>"
      ]
     },
     "metadata": {},
     "output_type": "display_data"
    }
   ],
   "source": [
    "## A csillapítási tényező, a körfrekvenciák, és a statikus kitérés számolása:\n",
    "\n",
    "# csillapítatlan sajátkörfrekvencia\n",
    "y_coeff = mozgegy.expand().coeff(y)\n",
    "ω_n = sp.sqrt(y_coeff)\n",
    "\n",
    "# csillapítási tényező\n",
    "c = (2*ζ*ω_n) * (m + 4*m0)\n",
    "\n",
    "# statikus deformáció (inhomogenitást okozó tagban a szögfüggvény együtthatójából kapható)\n",
    "inhom_coeff = -(mozgegy.expand().coeff(y,0)).coeff(sp.sin(ω*t))\n",
    "f_0 = inhom_coeff / ω_n**2\n",
    "\n",
    "## numerikusan\n",
    "ω_n_num = ω_n.subs(adatok).evalf(4)\n",
    "c_num = c.subs(adatok).evalf(4)\n",
    "f_0_num = f_0.subs(adatok).evalf(6)\n",
    "\n",
    "display(Math('ω_n= {}\\\\ \\\\text{{rad/s}}'.format(sp.latex(ω_n_num))))\n",
    "display(Math('c = {}\\\\ \\\\text{{Ns/m}}'.format(sp.latex(c_num))))\n",
    "display(Math('f_0 = {}\\\\ \\\\text{{m}}'.format(sp.latex(f_0_num))))"
   ]
  },
  {
   "cell_type": "markdown",
   "metadata": {},
   "source": [
    "## 2. Feladat:\n",
    "A partikuláris megoldást a legegyszerűbb alakra rendezve a kifejezésben megjelenik a rezgésamplitúdó, $Y$:\n",
    "\n",
    "$$y_p(t) = Y\\sin(\\omega t-\\vartheta),$$\n",
    "\n",
    "ahol $\\vartheta$ a fázisszög. A rezgésamplitúdó a nagyítás segítségével számítható:\n",
    "\n",
    "$$Y = Nf_0,$$\n",
    "\n",
    "ahol a nagyítás a következő alakban kapható\n",
    "\n",
    "$$N = \\frac{1}{\\sqrt{(1-\\lambda^2)^2+4\\zeta^2\\lambda^2}}.$$"
   ]
  },
  {
   "cell_type": "code",
   "execution_count": 9,
   "metadata": {},
   "outputs": [
    {
     "data": {
      "text/latex": [
       "$\\displaystyle λ = 3.735\\ \\text{[1]}$"
      ],
      "text/plain": [
       "<IPython.core.display.Math object>"
      ]
     },
     "metadata": {},
     "output_type": "display_data"
    },
    {
     "data": {
      "text/latex": [
       "$\\displaystyle N = 0.07719\\ \\text{[1]}$"
      ],
      "text/plain": [
       "<IPython.core.display.Math object>"
      ]
     },
     "metadata": {},
     "output_type": "display_data"
    },
    {
     "data": {
      "text/latex": [
       "$\\displaystyle Y = 0.00347\\ \\text{m}$"
      ],
      "text/plain": [
       "<IPython.core.display.Math object>"
      ]
     },
     "metadata": {},
     "output_type": "display_data"
    },
    {
     "data": {
      "text/latex": [
       "$\\displaystyle ϑ = 3.1128\\ \\text{rad}$"
      ],
      "text/plain": [
       "<IPython.core.display.Math object>"
      ]
     },
     "metadata": {},
     "output_type": "display_data"
    },
    {
     "data": {
      "text/latex": [
       "$\\displaystyle y_p(t) = 0.00347 \\sin{\\left(75 t - 3.1128 \\right)}\\ \\text{m}$"
      ],
      "text/plain": [
       "<IPython.core.display.Math object>"
      ]
     },
     "metadata": {},
     "output_type": "display_data"
    }
   ],
   "source": [
    "## rezgésamplitúdó meghatározása\n",
    "\n",
    "# frekvencia hányados\n",
    "λ = (ω/ω_n)\n",
    "λ_num = λ.subs(adatok).evalf(5)\n",
    "display(Math('λ = {}\\\\ \\\\text{{[1]}}'.format(sp.latex(λ_num))))\n",
    "\n",
    "# nagyítás\n",
    "N = 1/(sp.sqrt((1-λ**2)**2+4*ζ**2*λ**2))\n",
    "N_num = N.subs(adatok).evalf(4)\n",
    "display(Math('N = {}\\\\ \\\\text{{[1]}}'.format(sp.latex(N_num))))\n",
    "\n",
    "# rezgésamplitúdó\n",
    "Y = N*f_0\n",
    "Y_num = Y.subs(adatok).evalf(3)\n",
    "display(Math('Y = {}\\\\ \\\\text{{m}}'.format(sp.latex(Y_num))))\n",
    "\n",
    "# fázisszög\n",
    "ϑ =  sp.atan2(2*ζ*λ,(1-λ**2))\n",
    "ϑ_num = (ϑ).subs(adatok).evalf(5)\n",
    "display(Math('ϑ = {}\\\\ \\\\text{{rad}}'.format(sp.latex(ϑ_num))))\n",
    "\n",
    "# partikuláris megoldás\n",
    "y_p = Y*sp.sin(ω*t-ϑ)\n",
    "y_p_num = Y_num*sp.sin(ω.subs(adatok)*t-ϑ_num)\n",
    "display(Math('y_p(t) = {}\\\\ \\\\text{{m}}'.format(sp.latex(y_p_num))))\n"
   ]
  },
  {
   "cell_type": "markdown",
   "metadata": {},
   "source": [
    "## 3. Feladat"
   ]
  },
  {
   "cell_type": "code",
   "execution_count": 10,
   "metadata": {},
   "outputs": [
    {
     "data": {
      "text/latex": [
       "$\\displaystyle F_{st} = 608.22\\ \\text{N}$"
      ],
      "text/plain": [
       "<IPython.core.display.Math object>"
      ]
     },
     "metadata": {},
     "output_type": "display_data"
    }
   ],
   "source": [
    "## Az alapra átadódó erő egy statikus (rugó) és egy dinamikus (rugó + csillapítás) tagból adódik össze.\n",
    "\n",
    "# A statikus tag a gravitációs erővel egyezik meg:\n",
    "F_st = g * (m + 4*m0)\n",
    "F_st_num = F_st.subs(adatok)\n",
    "display(Math('F_{{st}} = {}\\\\ \\\\text{{N}}'.format(sp.latex(F_st_num))))"
   ]
  },
  {
   "cell_type": "markdown",
   "metadata": {},
   "source": [
    "Az átadódó erő dinamikus része felírható a partikuláris megoldáshoz hasonlóan egy egyszerűsített alakban \n",
    "\n",
    "$$F_{din} = F_A\\cos(\\omega t +\\delta),$$\n",
    "\n",
    "ahol $F_A$ az átadódó erő amplitúdója. A trigonometrikus azonosságokat kihasználva ez az erőamplitúdó könnyen meghatározható, ha felírjuk a dinamikus erőt a rugóerővel és a csillapító erővel kifejezve:\n",
    "\n",
    "\\begin{split}\n",
    "F_A\\cos(\\omega t +\\delta) &= F_A\\cos(\\omega t) \\cos\\delta-F_A\\sin(\\omega t) \\sin\\delta=\\\\\n",
    "&= kY\\sin(\\omega t)\\cos\\vartheta-kY\\cos(\\omega t)\\sin\\vartheta + cY\\omega\\cos(\\omega t)\\cos\\vartheta-cY\\omega\\sin(\\omega t)\\sin\\vartheta=\\\\\n",
    "&=kY\\sin(\\omega t-\\vartheta)+cY\\omega\\cos(\\omega t-\\vartheta).\n",
    "\\end{split}\n",
    "\n",
    "Az egyenlet két oldalán szereplő együtthatóknak meg kell egyezniük, tehát erre a feltételre felírhatunk egy egyenletrendszert, amit megoldva adódik az átadódó erő amplitúdója $F_A$. Ez a megoldás Pythonban kicsit nehézkes, sőt az sem biztos hogy a sympy solvere megtalálja az egyenletrendszer megoldását, ezért célszerű ezt numerikusan kiszámolni."
   ]
  },
  {
   "cell_type": "code",
   "execution_count": 11,
   "metadata": {},
   "outputs": [
    {
     "data": {
      "text/latex": [
       "$\\displaystyle F_{din,max} = 92.69\\ \\text{N}$"
      ],
      "text/plain": [
       "<IPython.core.display.Math object>"
      ]
     },
     "metadata": {},
     "output_type": "display_data"
    },
    {
     "data": {
      "text/latex": [
       "$\\displaystyle F_{A,max} = 700.91\\ \\text{N}$"
      ],
      "text/plain": [
       "<IPython.core.display.Math object>"
      ]
     },
     "metadata": {},
     "output_type": "display_data"
    }
   ],
   "source": [
    "import numpy as np\n",
    "\n",
    "# A rugóerő dinamikus része\n",
    "F_r = k*y_p_num\n",
    "\n",
    "# A csillapításból származó erő\n",
    "F_c = c*y_p_num.diff(t)\n",
    "\n",
    "# A dinamikus tag\n",
    "F_din = F_r + F_c\n",
    "\n",
    "### dinamikus erőtag értékeinek előállítása az idő függvényében\n",
    "t_val = np.linspace(0,0.5,1000) # lista létrehozása a [0 ; 0,5] intervallum 1000 részre való bontásával \n",
    "F_din_val = np.zeros(len(t_val)) # nulla lista létrehozása (ugyanannyi elemszámmal)\n",
    "# for ciklus segítségével írjuk felül a nulla listában szereplő elemeket az adott x értékhez tartozó y értékekkel\n",
    "for i in range(len(t_val)):\n",
    "    F_din_val[i] = F_din.subs(adatok).subs(t,t_val[i]).evalf()\n",
    "    \n",
    "# Erőmaximum megkeresése\n",
    "F_din_max = np.around(max(F_din_val),decimals=2) # két tizedesre kerekítve\n",
    "display(Math('F_{{din,max}} = {}\\\\ \\\\text{{N}}'.format(sp.latex(F_din_max))))\n",
    "\n",
    "# A dinamikus taghoz még hozzá kell adni a statikus tagot\n",
    "F_A_max = F_din_max+F_st_num\n",
    "display(Math('F_{{A,max}} = {}\\\\ \\\\text{{N}}'.format(sp.latex(F_A_max))))"
   ]
  },
  {
   "cell_type": "code",
   "execution_count": 12,
   "metadata": {},
   "outputs": [
    {
     "data": {
      "image/png": "[encoded data removed]",
      "text/plain": [
       "<Figure size 850.394x708.661 with 1 Axes>"
      ]
     },
     "metadata": {
      "needs_background": "light"
     },
     "output_type": "display_data"
    }
   ],
   "source": [
    "import matplotlib.pyplot as plt\n",
    "\n",
    "### Ellenőrzésképp érdemes ábrázolni a diamikus erőt\n",
    "# rajzterület létrehozása    \n",
    "plt.figure(figsize=(30/2.54,25/2.54))\n",
    "\n",
    "# függvény kirajzolása az x és y kordináta értékeket tartalmazó listák megadásásval\n",
    "plt.plot(t_val,F_din_val,color='r',label=r'num_sim')\n",
    "\n",
    "# tengelyek\n",
    "axes = plt.gca()\n",
    "axes.set_xlim([0,t_val[-1]]) # `-1`: utolsó eleme a listának, `-2`: utolsó előtti, stb..\n",
    "axes.set_ylim([-100, 100])\n",
    "\n",
    "# rácsozás\n",
    "plt.grid()\n",
    "\n",
    "# tengelyfeliratozás\n",
    "plt.xlabel(r'$ t\\ (\\mathrm{s}) $',fontsize=30)\n",
    "plt.ylabel(r'$ F(t)\\ (\\mathrm{N}) $',fontsize=30)\n",
    "\n",
    "plt.show()"
   ]
  },
  {
   "cell_type": "markdown",
   "metadata": {},
   "source": [
    "Készítette: \n",
    "\n",
    "       Juhos-Kiss Álmos (Alkalmazott Mechanika Szakosztály) \n",
    "       Hajdu Dávid (BME MM) kidolgozása és ábrái alapján.\n",
    "\n",
    "        Hibák, javaslatok:\n",
    "        amsz.bme@gmail.com\n",
    "        csuzdi02@gmail.com\n",
    "        almosjuhoskiss@gmail.com\n",
    "\n",
    "            2021.04.04\n",
    "        "
   ]
  }
 ],
 "metadata": {
  "kernelspec": {
   "display_name": "Python 3",
   "language": "python",
   "name": "python3"
  },
  "language_info": {
   "codemirror_mode": {
    "name": "ipython",
    "version": 3
   },
   "file_extension": ".py",
   "mimetype": "text/x-python",
   "name": "python",
   "nbconvert_exporter": "python",
   "pygments_lexer": "ipython3",
   "version": "3.8.5"
  }
 },
 "nbformat": 4,
 "nbformat_minor": 5
}
