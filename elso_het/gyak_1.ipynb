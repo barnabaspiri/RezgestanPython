{
 "cells": [
  {
   "cell_type": "markdown",
   "metadata": {},
   "source": [
    "# 1. Gyakorlat - Ütközések\n",
    "2021.03.31\n",
    "\n",
    "## Feladat:"
   ]
  },
  {
   "cell_type": "markdown",
   "metadata": {
    "scrolled": true
   },
   "source": [
    "<center><img src=\"gyak1_1.png\" width=500/></center>"
   ]
  },
  {
   "cell_type": "markdown",
   "metadata": {},
   "source": [
    "A mellékelt ábrán egy 1 szabadságfokú rezgő rendszer látható, ami az $m_1$ tömegű golyóból és az $m_{\\textrm{2}}$ tömegű rúdból áll. A rúd az A pontban található csuklópont körül el tud fordulni. A rendszer gravitációs erőtérben van, a nehézségi gyorsulás vektora függőlegesen lefelé mutat. A torziós rugó előfeszítése olyan, hogy a rúd egyensúlyi helyzete a vízszintes pozíció. A nyugalomban lévő rúd rezgését az $m_1$ tömegű golyóval való ütközés idézi elő. Az ütközés előtt a golyó $h$ magasságból szabadon esik nulla kezdeti sebesség mellett.\n",
    "\n",
    "### Adatok:\n",
    "\n",
    "|                       |                       |\n",
    "|:-----------------------|:-----------------------|\n",
    "| $m_1$ = 6 kg | $m_2$ = 6 kg         |\n",
    "| $a$ = 0,3 m | $\\beta$ = 60 ° |\n",
    "| $h$ = 0,115 m | $e$ = 1|\n",
    "\n",
    "\n",
    "\n",
    "### Részfeladatok:\n",
    "1. Határozza meg a golyó sebességét és a rúd szögsebességét az ütközés utáni pillanatban!\n",
    "\n",
    "## Megoldás:\n",
    "\n",
    "### 1. Feladat"
   ]
  },
  {
   "cell_type": "code",
   "execution_count": 1,
   "metadata": {},
   "outputs": [],
   "source": [
    "import sympy as sp\n",
    "import numpy as np\n",
    "from IPython.display import Math #szükséges könyvtárak importálása\n",
    "\n",
    "sp.init_printing() #szép kiiratás\n",
    "\n",
    "h, m_1, m_2, e, β, a, g = sp.symbols(\"h, m_1, m_2, e, β, a, g\") #használt szimbólumok definiálása\n",
    "\n",
    "# Készítsünk behelyettesítési listát az adatok alapján, SI-ben\n",
    "adatok = [(h,0.115), (m_1, 6), (m_2,6), (e,1), (β, sp.pi/3), (a,0.3), (g,9.81)]"
   ]
  },
  {
   "cell_type": "markdown",
   "metadata": {},
   "source": [
    "A leejtett $m_1$ tömegű test sebességének meghatározása az ütközés pillanata előtt, a munkatétel szerint:\n",
    "\n",
    "$$T_1 - T_0 = W_{01},$$\n",
    "\n",
    "ahol $T_0$ a kezdeti kinetikus energia, $T_1$ pedig az ütközés pillanatában a kinetikus energia, $W_{01}$ a mechanikai munka, amit a gravitációs erőtér végez. Mivel az $m_1$ tömegű testet 0 kezdősebességgel ejtettük le: $T_0 = 0.$\n",
    "\n",
    "$$\\dfrac{1}{2} m_1 c_1^2 = m_1 g h \\longrightarrow c_1 = \\sqrt{2 g h}.$$"
   ]
  },
  {
   "cell_type": "code",
   "execution_count": 2,
   "metadata": {
    "scrolled": true
   },
   "outputs": [
    {
     "data": {
      "text/latex": [
       "$\\displaystyle c_1 = \\sqrt{2} \\sqrt{g h}$"
      ],
      "text/plain": [
       "<IPython.core.display.Math object>"
      ]
     },
     "metadata": {},
     "output_type": "display_data"
    },
    {
     "data": {
      "text/latex": [
       "$\\displaystyle c_1 = 1.5\\ \\text{m/s}$"
      ],
      "text/plain": [
       "<IPython.core.display.Math object>"
      ]
     },
     "metadata": {},
     "output_type": "display_data"
    }
   ],
   "source": [
    "c_1 = sp.sqrt(2*g*h)                               #1\n",
    "display(Math('c_1 = {}'.format(sp.latex(c_1))))    #2\n",
    "\n",
    "c_1_num = c_1.subs(adatok).evalf(2)                #3 `.subs(adatok)`: behelyettesítés, `.evalf(2)`: kiértékelés 2 tizedesjegyre\n",
    "display(Math('c_1 = {}\\ \\\\text{{m/s}}'.format(c_1_num)))  #4\n",
    "\n",
    "c_1 = sp.symbols(\"c_1\")                            #5\n",
    "adatok.append((c_1,c_1_num))                       #6\n",
    "\n",
    "# Megjegyzés:\n",
    "# Az első kódsorban található a szimbólikus számítás, a másodikban a szimbólikus megoldás kiiratása történik\n",
    "# A harmadik kódsorban a numerikus megoldás kiszámítása, a negyedikben a numerikus megoldás kiiratása történik\n",
    "# Az ötödik kódsorban definiálunk egy szimbólumot a kiszámolt értékhez, a hatodik kódsorban a szimbólumot,\n",
    "# és annak numerikus értékét hozzáadjuk a behelyettesítési listához, hogy a késöbbiekben tudjunk vele számolni.\n",
    "\n",
    "# Ezen túl minden cellában hasonló metódus szerint történik a számítás"
   ]
  },
  {
   "cell_type": "markdown",
   "metadata": {},
   "source": [
    "<center><img src=\"gyak1_2.png\" width=500/></center>"
   ]
  },
  {
   "cell_type": "markdown",
   "metadata": {},
   "source": [
    "Az ütközés $m_1$ szempontjából centrikus ütközés, $m_2$ szempontjából álló tengely körül elforduló test ütközése, ezért meg kell keresni az ütközési talppontot, melyet a következőképpen tehetünk meg:\n",
    "1. Kijelöljük az ütközési normálist.\n",
    "2. \"$A$\" pontból (elforduló tengely) merőlegest állítunk $\\textbf{n}$ ütközési normálisra\n",
    "\n",
    "Szükség van a talppont és az álló tengely közötti távolságra, amely:\n",
    "\n",
    "$$l = \\overline{AT} = a\\ \\textrm{cos}(\\beta).$$"
   ]
  },
  {
   "cell_type": "code",
   "execution_count": 3,
   "metadata": {},
   "outputs": [
    {
     "data": {
      "text/latex": [
       "$\\displaystyle l = a \\cos{\\left(β \\right)}$"
      ],
      "text/plain": [
       "<IPython.core.display.Math object>"
      ]
     },
     "metadata": {},
     "output_type": "display_data"
    },
    {
     "data": {
      "text/latex": [
       "$\\displaystyle l = 0.15\\ \\text{m}$"
      ],
      "text/plain": [
       "<IPython.core.display.Math object>"
      ]
     },
     "metadata": {},
     "output_type": "display_data"
    }
   ],
   "source": [
    "l = a*sp.cos(β)\n",
    "display(Math('l = {}'.format(sp.latex(l))))\n",
    "\n",
    "l_num = l.subs(adatok).evalf(2) #m-ben\n",
    "display(Math('l = {}\\ \\\\text{{m}}'.format(l_num)))\n",
    "\n",
    "l = sp.symbols(\"l\")\n",
    "adatok.append((l,l_num))"
   ]
  },
  {
   "cell_type": "markdown",
   "metadata": {},
   "source": [
    "A redukált tömeg kiszámításához szükség van a tehetetlenségi nyomatékra, amely az $A$ pontra számolva:\n",
    "\n",
    "$$\\theta_{\\textrm{A}} = \\theta_{\\textrm{S}} + \\theta_{\\textrm{AS}} = \\dfrac{1}{12} m_2 (3a)^2 + m_2 \\left(\\dfrac{3}{2} a - a\\right).$$"
   ]
  },
  {
   "cell_type": "code",
   "execution_count": 4,
   "metadata": {},
   "outputs": [
    {
     "data": {
      "text/latex": [
       "$\\displaystyle \\theta_A = a^{2} m_{2}$"
      ],
      "text/plain": [
       "<IPython.core.display.Math object>"
      ]
     },
     "metadata": {},
     "output_type": "display_data"
    },
    {
     "data": {
      "text/latex": [
       "$\\displaystyle \\theta_A = 0.54\\ \\text{kgm$^2$}$"
      ],
      "text/plain": [
       "<IPython.core.display.Math object>"
      ]
     },
     "metadata": {},
     "output_type": "display_data"
    }
   ],
   "source": [
    "θ_A = sp.Rational(1,12)*m_2*(3*a)**2 + m_2*(sp.Rational(3,2)*a - a)**2\n",
    "display(Math('\\\\theta_A = {}'.format(sp.latex(θ_A)))) # \\theta_A nem elég, kettő \\\\ kell, mivel '\\t'-t a Python külön értelmezi\n",
    "                                                      # + egyből egyszerűsíti a fent látható kifejezést\n",
    "    \n",
    "θ_A_num = θ_A.subs(adatok).evalf(2)\n",
    "display(Math('\\\\theta_A = {}\\ \\\\text{{kgm$^2$}}'.format(θ_A_num)))\n",
    "\n",
    "θ_A = sp.symbols(\"θ_A\")\n",
    "adatok.append((θ_A,θ_A_num))"
   ]
  },
  {
   "cell_type": "markdown",
   "metadata": {},
   "source": [
    "Így a redukált tömeg számítható: \n",
    "\n",
    "$$m_{\\textrm{T}} = \\dfrac{\\theta_{\\textrm{A}}}{l^2}.$$"
   ]
  },
  {
   "cell_type": "code",
   "execution_count": 5,
   "metadata": {},
   "outputs": [
    {
     "data": {
      "text/latex": [
       "$\\displaystyle m_T = \\frac{θ_{A}}{l^{2}}$"
      ],
      "text/plain": [
       "<IPython.core.display.Math object>"
      ]
     },
     "metadata": {},
     "output_type": "display_data"
    },
    {
     "data": {
      "text/latex": [
       "$\\displaystyle m_T = 24\\ \\text{kg}$"
      ],
      "text/plain": [
       "<IPython.core.display.Math object>"
      ]
     },
     "metadata": {},
     "output_type": "display_data"
    }
   ],
   "source": [
    "m_T = θ_A / (l**2)\n",
    "display(Math('m_T = {}'.format(sp.latex(m_T)))) \n",
    "    \n",
    "m_T_num = m_T.subs(adatok).evalf(2)\n",
    "display(Math('m_T = {}\\ \\\\text{{kg}}'.format(m_T_num)))\n",
    "\n",
    "m_T = sp.symbols(\"m_T\") \n",
    "adatok.append((m_T,m_T_num))"
   ]
  },
  {
   "cell_type": "markdown",
   "metadata": {},
   "source": [
    "A golyó mozgásállapota az ütközés előtt: $[\\mathbf{\\Omega}_1; \\mathbf{c}_1] = [\\mathbf{0};-1,5\\mathbf{j}\\ $[m/s]$ ]$, ahol $\\mathbf{j}$ jelöli az y irányú egységvektort. \n",
    "\n",
    "A rúd mozgásállapota az ütközés előtt: $[\\mathbf{\\Omega}_2; \\mathbf{c}_{\\textrm{Tn}}] = [\\mathbf{0};\\mathbf{0}]$, mivel a rúd az ütközés pillanata előtt nyugalomban van."
   ]
  },
  {
   "cell_type": "markdown",
   "metadata": {
    "scrolled": true
   },
   "source": [
    "<center><img src=\"gyak1_3.png\" width=150/></center>"
   ]
  },
  {
   "cell_type": "code",
   "execution_count": 6,
   "metadata": {},
   "outputs": [],
   "source": [
    "c_Tn = sp.symbols(\"c_Tn\") # a rúd az ütközés előtt nyugalomban van, ezért c_Tn = 0\n",
    "adatok.append((c_Tn,0))"
   ]
  },
  {
   "cell_type": "markdown",
   "metadata": {},
   "source": [
    "A $\\mathbf{c}_1$ sebesség vektor $\\textbf{n}$ ütközési normális irányú, és az arra merőleges tangenciális irányú komponense a következőképpen számolható az ábra alapján:"
   ]
  },
  {
   "cell_type": "markdown",
   "metadata": {},
   "source": [
    "$$c_{1\\textrm{n}} = c_1\\ \\textrm{cos}(\\beta),$$\n",
    "\n",
    "$$c_{1\\textrm{t}} = c_1\\ \\textrm{sin}(\\beta).$$"
   ]
  },
  {
   "cell_type": "code",
   "execution_count": 7,
   "metadata": {},
   "outputs": [
    {
     "data": {
      "text/latex": [
       "$\\displaystyle c_{1n} = c_{1} \\cos{\\left(β \\right)}$"
      ],
      "text/plain": [
       "<IPython.core.display.Math object>"
      ]
     },
     "metadata": {},
     "output_type": "display_data"
    },
    {
     "data": {
      "text/latex": [
       "$\\displaystyle c_{1n} = 0.75 \\ \\text{m/s}$"
      ],
      "text/plain": [
       "<IPython.core.display.Math object>"
      ]
     },
     "metadata": {},
     "output_type": "display_data"
    }
   ],
   "source": [
    "c_1n = c_1 * sp.cos(β)\n",
    "display(Math('c_{{1n}} = {}'.format(sp.latex(c_1n))))\n",
    "\n",
    "c_1n_num = c_1n.subs(adatok).evalf(2)\n",
    "display(Math('c_{{1n}} = {} \\ \\\\text{{m/s}}'.format(c_1n_num)))\n",
    "\n",
    "c_1n = sp.symbols(\"c_1n\") \n",
    "adatok.append((c_1n,c_1n_num))"
   ]
  },
  {
   "cell_type": "code",
   "execution_count": 8,
   "metadata": {
    "scrolled": true
   },
   "outputs": [
    {
     "data": {
      "text/latex": [
       "$\\displaystyle c_{1t} = c_{1} \\sin{\\left(β \\right)}$"
      ],
      "text/plain": [
       "<IPython.core.display.Math object>"
      ]
     },
     "metadata": {},
     "output_type": "display_data"
    },
    {
     "data": {
      "text/latex": [
       "$\\displaystyle c_{1t} = 1.3\\ \\text{m/s}$"
      ],
      "text/plain": [
       "<IPython.core.display.Math object>"
      ]
     },
     "metadata": {},
     "output_type": "display_data"
    }
   ],
   "source": [
    "c_1t = c_1 * sp.sin(β)\n",
    "display(Math('c_{{1t}} = {}'.format(sp.latex(c_1t))))\n",
    "\n",
    "c_1t_num = c_1t.subs(adatok).evalf(2)\n",
    "display(Math('c_{{1t}} = {}\\ \\\\text{{m/s}}'.format(c_1t_num)))\n",
    "\n",
    "c_1t = sp.symbols(\"c_1t\") \n",
    "adatok.append((c_1t,c_1t_num))"
   ]
  },
  {
   "cell_type": "markdown",
   "metadata": {},
   "source": [
    "Ezzel a feladat az $m_1$ és $m_{\\textrm{T}}$ tömegű testek centrikus ütközéseként modellezhető, melyeknek ütközés előtti sebességeinek normális komponensei $c_{1\\textrm{n}}$ és $c_{\\textrm{Tn}}$. Ez a probléma Maxwell diagram alkalmazásával grafikusan is megoldható.\n",
    "\n",
    "Ehhez először kiszámítjuk a közös súlypont sebességét, ami az ütközés során változatlan marad."
   ]
  },
  {
   "cell_type": "code",
   "execution_count": 9,
   "metadata": {},
   "outputs": [
    {
     "data": {
      "text/latex": [
       "$\\displaystyle c_{Sn} = \\frac{c_{1n} m_{1} + c_{Tn} m_{T}}{m_{1} + m_{T}}$"
      ],
      "text/plain": [
       "<IPython.core.display.Math object>"
      ]
     },
     "metadata": {},
     "output_type": "display_data"
    },
    {
     "data": {
      "text/latex": [
       "$\\displaystyle c_{Sn} = 0.15\\ \\text{m/s}$"
      ],
      "text/plain": [
       "<IPython.core.display.Math object>"
      ]
     },
     "metadata": {},
     "output_type": "display_data"
    }
   ],
   "source": [
    "c_Sn = (m_1*c_1n + m_T*c_Tn)/(m_1 + m_T)\n",
    "display(Math('c_{{Sn}} = {}'.format(sp.latex(c_Sn))))\n",
    "\n",
    "c_Sn_num = c_Sn.subs(adatok).evalf(2)\n",
    "display(Math('c_{{Sn}} = {}\\ \\\\text{{m/s}}'.format(sp.latex(c_Sn_num))))\n",
    "\n",
    "c_Sn = sp.symbols(\"c_Sn\") \n",
    "adatok.append((c_Sn,c_Sn_num))"
   ]
  },
  {
   "cell_type": "markdown",
   "metadata": {},
   "source": [
    "<center><img src=\"gyak1_4.png\" width=800/></center>"
   ]
  },
  {
   "cell_type": "markdown",
   "metadata": {},
   "source": [
    "A Maxwell diagram megszerkesztésének folyamatát mutatja a fenti ábra. Először (a) az $\\textrm{O}_1$ és $\\textrm{O}_{\\textrm{T}}$ pontokban párhuzamos egyeneseket húzunk az ütközési normálissal, valamint berajzoljuk a testek normális irányú, ütközés előtti sebességeit. Mivel a rúd az ütközés előtt nyugalomban volt, így annak ütközés előtti sebessége zérus. Ezt követően összekötjük a sebességvektorok végpontjait, majd megállapítjuk a közös súlypont helyét a golyó tömegének és a rúd redukált tömegének segítségével az $\\frac{\\overline{\\textrm{SM}_{\\textrm{T}}}}{\\overline{\\textrm{SM}_{\\textrm{1}}}} = \\frac{m_1}{m_{\\textrm{T}}}$ arány felhasználásával. A közös súlypontnak a normális irányú egyenesekre eső merőleges vetületei alapján megállapíthatjuk a $\\Delta_1$ és $\\Delta_{\\textrm{T}}$ 'távolságokat' (b), amik ahhoz a sebességváltozáshoz tartoznak, amikor az ütközésben részt vevő testek elérik a közös súlypont sebességét. Az $e$ ütközési tényező felhasználásával megállapíthatjuk az ütközés utáni ütközési normális irányú sebességeket, mégpedig $e\\Delta_1$ és $e\\Delta_{\\textrm{T}}$-t mérve a $\\textrm{P}_1\\textrm{P}_{\\textrm{T}}$ egyenes túloldalára (c). A golyó ütközés utáni normális irányú sebességét az $\\overline{\\textrm{O}_1\\textrm{Q}_1}$, a rúdét az $\\overline{\\textrm{O}_{\\textrm{T}}\\textrm{Q}_{\\textrm{T}}}$ adja.\n",
    "\n",
    "Ezek alapján az ütközés utáni normális irányú sebességkomponensek\n",
    "\n",
    "$$v_{1\\textrm{n}} = c_{\\textrm{Sn}} - e\\Delta_1 = c_{\\textrm{Sn}} - e(c_{\\textrm{1n}} - c_{\\textrm{Sn}}),$$\n",
    "\n",
    "$$v_{\\textrm{Tn}} = c_{\\textrm{Sn}} - e\\Delta_{\\textrm{T}} = (1+e)c_{\\textrm{Sn}}, $$"
   ]
  },
  {
   "cell_type": "code",
   "execution_count": 10,
   "metadata": {},
   "outputs": [
    {
     "data": {
      "text/latex": [
       "$\\displaystyle v_{1n} = c_{Sn} - e \\left(c_{1n} - c_{Sn}\\right)$"
      ],
      "text/plain": [
       "<IPython.core.display.Math object>"
      ]
     },
     "metadata": {},
     "output_type": "display_data"
    },
    {
     "data": {
      "text/latex": [
       "$\\displaystyle v_{1n} = -0.45\\ \\text{m/s}$"
      ],
      "text/plain": [
       "<IPython.core.display.Math object>"
      ]
     },
     "metadata": {},
     "output_type": "display_data"
    },
    {
     "data": {
      "text/latex": [
       "$\\displaystyle v_{Tn} = c_{Sn} \\left(e + 1\\right)$"
      ],
      "text/plain": [
       "<IPython.core.display.Math object>"
      ]
     },
     "metadata": {},
     "output_type": "display_data"
    },
    {
     "data": {
      "text/latex": [
       "$\\displaystyle v_{Tn} = 0.3\\ \\text{m/s}$"
      ],
      "text/plain": [
       "<IPython.core.display.Math object>"
      ]
     },
     "metadata": {},
     "output_type": "display_data"
    }
   ],
   "source": [
    "v_1n = c_Sn - e*(c_1n - c_Sn)\n",
    "display(Math('v_{{1n}} = {}'.format(sp.latex(v_1n))))\n",
    "\n",
    "v_1n_num = v_1n.subs(adatok).evalf(2)\n",
    "display(Math('v_{{1n}} = {}\\ \\\\text{{m/s}}'.format(sp.latex(v_1n_num))))\n",
    "\n",
    "v_1n = sp.symbols(\"v_1n\") \n",
    "adatok.append((v_1n,v_1n_num))\n",
    "\n",
    "v_Tn = (1 + e)*c_Sn\n",
    "display(Math('v_{{Tn}} = {}'.format(sp.latex(v_Tn))))\n",
    "\n",
    "v_Tn_num = v_Tn.subs(adatok).evalf(2)\n",
    "display(Math('v_{{Tn}} = {}\\ \\\\text{{m/s}}'.format(sp.latex(v_Tn_num))))\n",
    "\n",
    "v_Tn = sp.symbols(\"v_Tn\") \n",
    "adatok.append((v_Tn,v_Tn_num))"
   ]
  },
  {
   "cell_type": "markdown",
   "metadata": {},
   "source": [
    "Így, a golyó ütközés utáni normális irányú sebessége\n",
    "\n",
    "$$v_{1\\textrm{n}} = -0,45\\ \\frac{\\textrm{m}}{\\textrm{s}},$$\n",
    "\n",
    "a tangenciális irányú sebessége változatlan, ugyanis az ütközés súrlódásmentes, azaz\n",
    "\n",
    "$$v_{1\\textrm{t}} = c_{1\\textrm{t}} = 1,3\\ \\frac{\\textrm{m}}{\\textrm{s}}.$$"
   ]
  },
  {
   "cell_type": "markdown",
   "metadata": {},
   "source": [
    "A rúd az A pont körül végez forgómozgást, ezért T pontjának sebességének segítségével az ütközés utáni szögsebessége számítható:\n",
    "\n",
    "$$\\omega_2 = \\frac{v_{\\textrm{Tn}}}{l}.$$"
   ]
  },
  {
   "cell_type": "code",
   "execution_count": 11,
   "metadata": {
    "scrolled": true
   },
   "outputs": [
    {
     "data": {
      "text/latex": [
       "$\\displaystyle ω_{2} = \\frac{v_{Tn}}{l}$"
      ],
      "text/plain": [
       "<IPython.core.display.Math object>"
      ]
     },
     "metadata": {},
     "output_type": "display_data"
    },
    {
     "data": {
      "text/latex": [
       "$\\displaystyle ω_{2} = 2.0\\ \\text{rad/s}$"
      ],
      "text/plain": [
       "<IPython.core.display.Math object>"
      ]
     },
     "metadata": {},
     "output_type": "display_data"
    }
   ],
   "source": [
    "ω_2 = v_Tn / l\n",
    "display(Math('ω_{{2}} = {}'.format(sp.latex(ω_2))))\n",
    "\n",
    "ω_2_num = ω_2.subs(adatok).evalf(2)\n",
    "display(Math('ω_{{2}} = {}\\ \\\\text{{rad/s}}'.format(sp.latex(ω_2_num))))"
   ]
  },
  {
   "cell_type": "markdown",
   "metadata": {},
   "source": [
    "Így a rúd ütközés utáni szögsebessége\n",
    "\n",
    "$$\\omega_2 = 2\\ \\frac{\\textrm{rad}}{\\textrm{s}}.$$"
   ]
  },
  {
   "cell_type": "markdown",
   "metadata": {},
   "source": [
    "Készítette: \n",
    "\n",
    "            Hertelendy Krisztián és Piri Barnabás (Alkalmazott Mechanika Szakosztály) \n",
    "            Takács Dénes (BME MM) kidolgozása és ábrái alapján.\n",
    "\n",
    "            Hibák, javaslatok:\n",
    "            amsz.bme@gmail.com\n",
    "\n",
    "            2021.03.31.\n",
    "        "
   ]
  }
 ],
 "metadata": {
  "kernelspec": {
   "display_name": "Python 3",
   "language": "python",
   "name": "python3"
  },
  "language_info": {
   "codemirror_mode": {
    "name": "ipython",
    "version": 3
   },
   "file_extension": ".py",
   "mimetype": "text/x-python",
   "name": "python",
   "nbconvert_exporter": "python",
   "pygments_lexer": "ipython3",
   "version": "3.8.5"
  }
 },
 "nbformat": 4,
 "nbformat_minor": 4
}
